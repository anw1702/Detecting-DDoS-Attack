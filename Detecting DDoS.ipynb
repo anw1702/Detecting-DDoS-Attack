{
 "cells": [
  {
   "cell_type": "code",
   "execution_count": 55,
   "id": "1302137c",
   "metadata": {},
   "outputs": [
    {
     "name": "stdout",
     "output_type": "stream",
     "text": [
      "Loading data...\n",
      "Train data columns: Index(['duration', 'protocoltype', 'service', 'flag', 'srcbytes', 'dstbytes',\n",
      "       'land', 'wrongfragment', 'urgent', 'hot', 'numfailedlogins', 'loggedin',\n",
      "       'numcompromised', 'rootshell', 'suattempted', 'numroot',\n",
      "       'numfilecreations', 'numshells', 'numaccessfiles', 'numoutboundcmds',\n",
      "       'ishostlogin', 'isguestlogin', 'count', 'srvcount', 'serrorrate',\n",
      "       'srvserrorrate', 'rerrorrate', 'srvrerrorrate', 'samesrvrate',\n",
      "       'diffsrvrate', 'srvdiffhostrate', 'dsthostcount', 'dsthostsrvcount',\n",
      "       'dsthostsamesrvrate', 'dsthostdiffsrvrate', 'dsthostsamesrcportrate',\n",
      "       'dsthostsrvdiffhostrate', 'dsthostserrorrate', 'dsthostsrvserrorrate',\n",
      "       'dsthostrerrorrate', 'dsthostsrvrerrorrate', 'lastflag', 'attack'],\n",
      "      dtype='object')\n",
      "Test data columns: Index(['duration', 'protocoltype', 'service', 'flag', 'srcbytes', 'dstbytes',\n",
      "       'land', 'wrongfragment', 'urgent', 'hot', 'numfailedlogins', 'loggedin',\n",
      "       'numcompromised', 'rootshell', 'suattempted', 'numroot',\n",
      "       'numfilecreations', 'numshells', 'numaccessfiles', 'numoutboundcmds',\n",
      "       'ishostlogin', 'isguestlogin', 'count', 'srvcount', 'serrorrate',\n",
      "       'srvserrorrate', 'rerrorrate', 'srvrerrorrate', 'samesrvrate',\n",
      "       'diffsrvrate', 'srvdiffhostrate', 'dsthostcount', 'dsthostsrvcount',\n",
      "       'dsthostsamesrvrate', 'dsthostdiffsrvrate', 'dsthostsamesrcportrate',\n",
      "       'dsthostsrvdiffhostrate', 'dsthostserrorrate', 'dsthostsrvserrorrate',\n",
      "       'dsthostrerrorrate', 'dsthostsrvrerrorrate', 'lastflag'],\n",
      "      dtype='object')\n",
      "Target column name: attack\n",
      "Preprocessing data...\n",
      "Training model...\n"
     ]
    },
    {
     "name": "stderr",
     "output_type": "stream",
     "text": [
      "C:\\ProgramData\\anaconda3\\Lib\\site-packages\\sklearn\\preprocessing\\_encoders.py:868: FutureWarning: `sparse` was renamed to `sparse_output` in version 1.2 and will be removed in 1.4. `sparse_output` is ignored unless you leave `sparse` to its default value.\n",
      "  warnings.warn(\n",
      "C:\\Users\\anwes\\AppData\\Roaming\\Python\\Python311\\site-packages\\xgboost\\core.py:158: UserWarning: [22:46:54] WARNING: C:\\buildkite-agent\\builds\\buildkite-windows-cpu-autoscaling-group-i-06abd128ca6c1688d-1\\xgboost\\xgboost-ci-windows\\src\\learner.cc:740: \n",
      "Parameters: { \"use_label_encoder\" } are not used.\n",
      "\n",
      "  warnings.warn(smsg, UserWarning)\n"
     ]
    },
    {
     "name": "stdout",
     "output_type": "stream",
     "text": [
      "Making predictions...\n",
      "Creating submission file...\n",
      "Submission file has been created.\n"
     ]
    }
   ],
   "source": [
    "import pandas as pd\n",
    "import numpy as np\n",
    "from xgboost import XGBClassifier\n",
    "from sklearn.impute import SimpleImputer\n",
    "from sklearn.preprocessing import OneHotEncoder, LabelEncoder\n",
    "from sklearn.compose import ColumnTransformer\n",
    "from sklearn.pipeline import Pipeline\n",
    "\n",
    "# Step 1: Load the data\n",
    "print(\"Loading data...\")\n",
    "train_data = pd.read_csv('Train_Data.csv')\n",
    "test_data = pd.read_csv('Test_Data.csv')\n",
    "\n",
    "print(\"Train data columns:\", train_data.columns)\n",
    "print(\"Test data columns:\", test_data.columns)\n",
    "\n",
    "# Identify the correct name of the target column (case-sensitive)\n",
    "target_column = [col for col in train_data.columns if col.lower() == 'attack'][0]\n",
    "print(f\"Target column name: {target_column}\")\n",
    "\n",
    "# Step 2: Preprocess the data\n",
    "print(\"Preprocessing data...\")\n",
    "\n",
    "# Identify numeric and categorical columns (excluding the target column)\n",
    "numeric_features = train_data.drop(target_column, axis=1).select_dtypes(include=['int64', 'float64']).columns\n",
    "categorical_features = train_data.drop(target_column, axis=1).select_dtypes(include=['object']).columns\n",
    "\n",
    "# Create preprocessor\n",
    "preprocessor = ColumnTransformer(\n",
    "    transformers=[\n",
    "        ('num', SimpleImputer(strategy='mean'), numeric_features),\n",
    "        ('cat', OneHotEncoder(handle_unknown='ignore', sparse=False), categorical_features)\n",
    "    ])\n",
    "\n",
    "# Create a pipeline with the preprocessor and the classifier\n",
    "model = Pipeline([\n",
    "    ('preprocessor', preprocessor),\n",
    "    ('classifier', XGBClassifier(n_estimators=100, learning_rate=0.1, max_depth=5, \n",
    "                                 random_state=42, use_label_encoder=False, eval_metric='logloss'))\n",
    "])\n",
    "\n",
    "# Step 3: Prepare the target variable\n",
    "le = LabelEncoder()\n",
    "y_train = le.fit_transform(train_data[target_column])\n",
    "\n",
    "# Step 4: Fit the model\n",
    "print(\"Training model...\")\n",
    "X_train = train_data.drop(target_column, axis=1)\n",
    "model.fit(X_train, y_train)\n",
    "\n",
    "# Step 5: Make predictions on the test set\n",
    "print(\"Making predictions...\")\n",
    "y_pred = model.predict(test_data)\n",
    "\n",
    "# Step 6: Create submission DataFrame\n",
    "print(\"Creating submission file...\")\n",
    "submission = pd.DataFrame({'attack': y_pred})\n",
    "submission['attack'] = le.inverse_transform(submission['attack'])\n",
    "\n",
    "# Step 7: Save the submission to a CSV file\n",
    "submission.to_csv('neptune_submission.csv', index=False)\n",
    "print(\"Submission file has been created.\")"
   ]
  },
  {
   "cell_type": "code",
   "execution_count": null,
   "id": "2a7d8c92",
   "metadata": {},
   "outputs": [],
   "source": []
  }
 ],
 "metadata": {
  "kernelspec": {
   "display_name": "Python 3 (ipykernel)",
   "language": "python",
   "name": "python3"
  },
  "language_info": {
   "codemirror_mode": {
    "name": "ipython",
    "version": 3
   },
   "file_extension": ".py",
   "mimetype": "text/x-python",
   "name": "python",
   "nbconvert_exporter": "python",
   "pygments_lexer": "ipython3",
   "version": "3.11.7"
  }
 },
 "nbformat": 4,
 "nbformat_minor": 5
}
